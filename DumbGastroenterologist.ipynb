{
 "cells": [
  {
   "cell_type": "code",
   "execution_count": 1,
   "id": "f0a9edf1",
   "metadata": {},
   "outputs": [],
   "source": [
    "dr = {'Gastroesophageal reflux disease': {'symptoms':['reflux','food moves back into my mouth', 'acid moves back into my mouth', 'bile moves back into my mouth'], 'treatment': 'Motilium 3 times per day and Omebrazol 1 time per day'},\n",
    "      'Gastritis disease': {'symptoms':['hiccups', 'nausea', 'vomiting', 'indigestion', 'bloating', 'appetite loss', 'black stool'], 'treatment': 'gavscon 3 time per day and omebrazol 1 time per day '},\n",
    "      'Peptic ulcer disease': {'symptoms':['abdominal pain', 'nausea', 'vomiting', 'inability to drink fluids', 'feeling hungry after eating', 'fatigue', 'weight loss', 'black tarry stool', 'chest pain'], 'treatment': 'Please consult a doctor for taking Antibiotics and Proton pump inhibitors'},\n",
    "      'Viral gastroenteritis disease': {'symptoms':['vomiting', 'diarrhea'], 'treatment': 'Antinal 3 times per day and Flagil 3 times per day if need be '}, \n",
    "      'Hiatal hernia': {'symptoms':['bloating', 'belching pain', 'bitter taste in your throat'], 'treatment': 'Antacids and H-2 receptor blockers'},\n",
    "      'Gastroparesis': {'symptoms':['nausea', 'vomiting', 'weight loss', 'bloating', 'heartburn'], 'treatment': 'Gut motility stimulator and Antiemetic'},\n",
    "      'Stomach cancer': {'symptoms':['fatigue', 'stomach pain', 'loss of appetite', 'severe heartburn', 'heartburn', 'fullness', 'stomach fullness','indigestion', 'severe indigestion','weight loss'], 'treatment': 'Urgent medical attention is usually recommended!!'},\n",
    "      'Helicobacter pylori ': {'symptoms':['burning pain', 'frequent burping', 'burping', 'nausea'], 'treatment': 'Antibiotic 2 times per day\\n Omibrazol 1 time per day\\n Flagil 3 times per day'},\n",
    "      'chronic constipation': {'symptoms':['hard stools', ' lumpy stool', 'not pooping enough', 'lumpy poop', 'not pooping all'], 'treatment': 'Include plenty of high-fiber foods in your diet, Eat fewer processed foods, and dairy and meat products, Drink a lot of fluids'},\n",
    "      'Liver fibrosis disease': {'symptoms':['jaundice', 'yellowing of the skin', 'yellowing of the eyes'], 'treatment': 'Urgent medical attention is usually recommended!!'}}\n",
    "\n"
   ]
  },
  {
   "cell_type": "code",
   "execution_count": 3,
   "id": "17e1be63",
   "metadata": {},
   "outputs": [
    {
     "name": "stdout",
     "output_type": "stream",
     "text": [
      "Enter your symptoms \n",
      "food moves back into my mouth\n",
      "We are 25 % sure that you may have Gastroesophageal reflux disease \n",
      " You should take Motilium 3 times per day and Omebrazol 1 time per day \n",
      "\n"
     ]
    }
   ],
   "source": [
    "x = input(\"Enter your symptoms \\n\")\n",
    "symptom = x.split(\",\")\n",
    "count = 0\n",
    "flag = -1\n",
    "disease = dict()\n",
    "\n",
    "for item in dr :\n",
    "    for symp in symptom :\n",
    "        if symp in dr[item]['symptoms'] :\n",
    "            if item in disease :\n",
    "                disease[item] = disease[item] + 1\n",
    "            else:\n",
    "                disease[item] = 1\n",
    "            continue\n",
    "     \n",
    "            \n",
    "for item in disease:\n",
    "    if disease[item] == len(symptom) :\n",
    "        flag = 1\n",
    "        count += 1\n",
    "        perc = int((len(symptom)/len(dr[item]['symptoms']))*100)\n",
    "        print(\"We are\", perc,\"% sure that you may have\", item, \"\\n\", \"You should take\", dr[item]['treatment'], \"\\n\")\n",
    "        \n",
    "if flag == -1:\n",
    "     print('Sorry your disease is not found, please consult a doctor or enter other symptoms')\n",
    "        \n",
    "if count > 1 :\n",
    "    print(\"THE RESULT MAY NOT BE ACCURATE BUE TO UNSPECIFIC SYMPTOMS PLEASE ENTER MORE SYMPTOMS OR CONSULT A DOCTOR\")\n",
    "\n"
   ]
  },
  {
   "cell_type": "code",
   "execution_count": 19,
   "id": "ccef7b6c",
   "metadata": {},
   "outputs": [],
   "source": [
    " \n"
   ]
  }
 ],
 "metadata": {
  "kernelspec": {
   "display_name": "Python 3",
   "language": "python",
   "name": "python3"
  },
  "language_info": {
   "codemirror_mode": {
    "name": "ipython",
    "version": 3
   },
   "file_extension": ".py",
   "mimetype": "text/x-python",
   "name": "python",
   "nbconvert_exporter": "python",
   "pygments_lexer": "ipython3",
   "version": "3.8.8"
  }
 },
 "nbformat": 4,
 "nbformat_minor": 5
}
